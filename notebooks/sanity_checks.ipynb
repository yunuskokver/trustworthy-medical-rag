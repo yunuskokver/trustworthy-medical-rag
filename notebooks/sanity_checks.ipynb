{
 "cells": [
  {
   "cell_type": "markdown",
   "id": "5e50e624",
   "metadata": {},
   "source": [
    "# Sanity Checks\n",
    "\n",
    "Use this notebook to run small, quick tests."
   ]
  },
  {
   "cell_type": "code",
   "execution_count": null,
   "id": "ff668668",
   "metadata": {},
   "outputs": [],
   "source": [
    "print('Notebook ready.')"
   ]
  }
 ],
 "metadata": {},
 "nbformat": 4,
 "nbformat_minor": 5
}
